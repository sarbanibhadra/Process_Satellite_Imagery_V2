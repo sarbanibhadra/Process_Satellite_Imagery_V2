{
 "cells": [
  {
   "cell_type": "code",
   "execution_count": 1,
   "id": "6f3e44be-d87f-4dcb-9afc-0f41c5a4db57",
   "metadata": {},
   "outputs": [
    {
     "name": "stdout",
     "output_type": "stream",
     "text": [
      "Requirement already satisfied: xarray in /home/sarbanidas/agb-venv/lib/python3.11/site-packages (2024.11.0)\n",
      "Collecting xee\n",
      "  Downloading xee-0.0.19-py3-none-any.whl (30 kB)\n",
      "Requirement already satisfied: numpy>=1.24 in /home/sarbanidas/agb-venv/lib/python3.11/site-packages (from xarray) (2.0.2)\n",
      "Requirement already satisfied: packaging>=23.2 in /home/sarbanidas/agb-venv/lib/python3.11/site-packages (from xarray) (24.2)\n",
      "Requirement already satisfied: pandas>=2.1 in /home/sarbanidas/agb-venv/lib/python3.11/site-packages (from xarray) (2.2.3)\n",
      "Requirement already satisfied: earthengine-api>=0.1.374 in /home/sarbanidas/agb-venv/lib/python3.11/site-packages (from xee) (1.4.1)\n",
      "Requirement already satisfied: pyproj in /home/sarbanidas/agb-venv/lib/python3.11/site-packages (from xee) (3.7.0)\n",
      "Requirement already satisfied: affine in /home/sarbanidas/agb-venv/lib/python3.11/site-packages (from xee) (2.4.0)\n",
      "Requirement already satisfied: google-cloud-storage in /home/sarbanidas/agb-venv/lib/python3.11/site-packages (from earthengine-api>=0.1.374->xee) (2.18.2)\n",
      "Requirement already satisfied: google-api-python-client>=1.12.1 in /home/sarbanidas/agb-venv/lib/python3.11/site-packages (from earthengine-api>=0.1.374->xee) (2.154.0)\n",
      "Requirement already satisfied: google-auth>=1.4.1 in /home/sarbanidas/agb-venv/lib/python3.11/site-packages (from earthengine-api>=0.1.374->xee) (2.36.0)\n",
      "Requirement already satisfied: google-auth-httplib2>=0.0.3 in /home/sarbanidas/agb-venv/lib/python3.11/site-packages (from earthengine-api>=0.1.374->xee) (0.2.0)\n",
      "Requirement already satisfied: httplib2<1dev,>=0.9.2 in /home/sarbanidas/agb-venv/lib/python3.11/site-packages (from earthengine-api>=0.1.374->xee) (0.22.0)\n",
      "Requirement already satisfied: requests in /home/sarbanidas/agb-venv/lib/python3.11/site-packages (from earthengine-api>=0.1.374->xee) (2.32.3)\n",
      "Requirement already satisfied: python-dateutil>=2.8.2 in /home/sarbanidas/agb-venv/lib/python3.11/site-packages (from pandas>=2.1->xarray) (2.9.0.post0)\n",
      "Requirement already satisfied: pytz>=2020.1 in /home/sarbanidas/agb-venv/lib/python3.11/site-packages (from pandas>=2.1->xarray) (2024.2)\n",
      "Requirement already satisfied: tzdata>=2022.7 in /home/sarbanidas/agb-venv/lib/python3.11/site-packages (from pandas>=2.1->xarray) (2024.2)\n",
      "Requirement already satisfied: certifi in /home/sarbanidas/agb-venv/lib/python3.11/site-packages (from pyproj->xee) (2024.8.30)\n",
      "Requirement already satisfied: dask[complete] in /home/sarbanidas/agb-venv/lib/python3.11/site-packages (from xarray) (2024.12.0)\n",
      "Requirement already satisfied: google-api-core!=2.0.*,!=2.1.*,!=2.2.*,!=2.3.0,<3.0.0.dev0,>=1.31.5 in /home/sarbanidas/agb-venv/lib/python3.11/site-packages (from google-api-python-client>=1.12.1->earthengine-api>=0.1.374->xee) (2.23.0)\n",
      "Requirement already satisfied: uritemplate<5,>=3.0.1 in /home/sarbanidas/agb-venv/lib/python3.11/site-packages (from google-api-python-client>=1.12.1->earthengine-api>=0.1.374->xee) (4.1.1)\n",
      "Requirement already satisfied: cachetools<6.0,>=2.0.0 in /home/sarbanidas/agb-venv/lib/python3.11/site-packages (from google-auth>=1.4.1->earthengine-api>=0.1.374->xee) (5.5.0)\n",
      "Requirement already satisfied: pyasn1-modules>=0.2.1 in /home/sarbanidas/agb-venv/lib/python3.11/site-packages (from google-auth>=1.4.1->earthengine-api>=0.1.374->xee) (0.4.1)\n",
      "Requirement already satisfied: rsa<5,>=3.1.4 in /home/sarbanidas/agb-venv/lib/python3.11/site-packages (from google-auth>=1.4.1->earthengine-api>=0.1.374->xee) (4.9)\n",
      "Requirement already satisfied: pyparsing!=3.0.0,!=3.0.1,!=3.0.2,!=3.0.3,<4,>=2.4.2 in /home/sarbanidas/agb-venv/lib/python3.11/site-packages (from httplib2<1dev,>=0.9.2->earthengine-api>=0.1.374->xee) (3.2.0)\n",
      "Requirement already satisfied: six>=1.5 in /home/sarbanidas/agb-venv/lib/python3.11/site-packages (from python-dateutil>=2.8.2->pandas>=2.1->xarray) (1.16.0)\n",
      "Requirement already satisfied: click>=8.1 in /home/sarbanidas/agb-venv/lib/python3.11/site-packages (from dask[complete]->xarray) (8.1.7)\n",
      "Requirement already satisfied: cloudpickle>=3.0.0 in /home/sarbanidas/agb-venv/lib/python3.11/site-packages (from dask[complete]->xarray) (3.1.0)\n",
      "Requirement already satisfied: fsspec>=2021.09.0 in /home/sarbanidas/agb-venv/lib/python3.11/site-packages (from dask[complete]->xarray) (2024.10.0)\n",
      "Requirement already satisfied: partd>=1.4.0 in /home/sarbanidas/agb-venv/lib/python3.11/site-packages (from dask[complete]->xarray) (1.4.2)\n",
      "Requirement already satisfied: pyyaml>=5.3.1 in /home/sarbanidas/agb-venv/lib/python3.11/site-packages (from dask[complete]->xarray) (6.0.2)\n",
      "Requirement already satisfied: toolz>=0.10.0 in /home/sarbanidas/agb-venv/lib/python3.11/site-packages (from dask[complete]->xarray) (1.0.0)\n",
      "Requirement already satisfied: importlib_metadata>=4.13.0 in /home/sarbanidas/agb-venv/lib/python3.11/site-packages (from dask[complete]->xarray) (8.5.0)\n",
      "Requirement already satisfied: pyarrow>=14.0.1 in /home/sarbanidas/agb-venv/lib/python3.11/site-packages (from dask[complete]->xarray) (18.1.0)\n",
      "Requirement already satisfied: lz4>=4.3.2 in /home/sarbanidas/agb-venv/lib/python3.11/site-packages (from dask[complete]->xarray) (4.3.3)\n",
      "Requirement already satisfied: google-cloud-core<3.0dev,>=2.3.0 in /home/sarbanidas/agb-venv/lib/python3.11/site-packages (from google-cloud-storage->earthengine-api>=0.1.374->xee) (2.4.1)\n",
      "Requirement already satisfied: google-resumable-media>=2.7.2 in /home/sarbanidas/agb-venv/lib/python3.11/site-packages (from google-cloud-storage->earthengine-api>=0.1.374->xee) (2.7.2)\n",
      "Requirement already satisfied: google-crc32c<2.0dev,>=1.0 in /home/sarbanidas/agb-venv/lib/python3.11/site-packages (from google-cloud-storage->earthengine-api>=0.1.374->xee) (1.6.0)\n",
      "Requirement already satisfied: charset-normalizer<4,>=2 in /home/sarbanidas/agb-venv/lib/python3.11/site-packages (from requests->earthengine-api>=0.1.374->xee) (3.4.0)\n",
      "Requirement already satisfied: idna<4,>=2.5 in /home/sarbanidas/agb-venv/lib/python3.11/site-packages (from requests->earthengine-api>=0.1.374->xee) (3.10)\n",
      "Requirement already satisfied: urllib3<3,>=1.21.1 in /home/sarbanidas/agb-venv/lib/python3.11/site-packages (from requests->earthengine-api>=0.1.374->xee) (2.2.3)\n",
      "Requirement already satisfied: googleapis-common-protos<2.0.dev0,>=1.56.2 in /home/sarbanidas/agb-venv/lib/python3.11/site-packages (from google-api-core!=2.0.*,!=2.1.*,!=2.2.*,!=2.3.0,<3.0.0.dev0,>=1.31.5->google-api-python-client>=1.12.1->earthengine-api>=0.1.374->xee) (1.66.0)\n",
      "Requirement already satisfied: protobuf!=3.20.0,!=3.20.1,!=4.21.0,!=4.21.1,!=4.21.2,!=4.21.3,!=4.21.4,!=4.21.5,<6.0.0.dev0,>=3.19.5 in /home/sarbanidas/agb-venv/lib/python3.11/site-packages (from google-api-core!=2.0.*,!=2.1.*,!=2.2.*,!=2.3.0,<3.0.0.dev0,>=1.31.5->google-api-python-client>=1.12.1->earthengine-api>=0.1.374->xee) (5.29.0)\n",
      "Requirement already satisfied: proto-plus<2.0.0dev,>=1.22.3 in /home/sarbanidas/agb-venv/lib/python3.11/site-packages (from google-api-core!=2.0.*,!=2.1.*,!=2.2.*,!=2.3.0,<3.0.0.dev0,>=1.31.5->google-api-python-client>=1.12.1->earthengine-api>=0.1.374->xee) (1.25.0)\n",
      "Requirement already satisfied: zipp>=3.20 in /home/sarbanidas/agb-venv/lib/python3.11/site-packages (from importlib_metadata>=4.13.0->dask[complete]->xarray) (3.21.0)\n",
      "Requirement already satisfied: locket in /home/sarbanidas/agb-venv/lib/python3.11/site-packages (from partd>=1.4.0->dask[complete]->xarray) (1.0.0)\n",
      "Requirement already satisfied: pyasn1<0.7.0,>=0.4.6 in /home/sarbanidas/agb-venv/lib/python3.11/site-packages (from pyasn1-modules>=0.2.1->google-auth>=1.4.1->earthengine-api>=0.1.374->xee) (0.6.1)\n",
      "Requirement already satisfied: dask-expr<1.2,>=1.1 in /home/sarbanidas/agb-venv/lib/python3.11/site-packages (from dask[complete]->xarray) (1.1.20)\n",
      "Requirement already satisfied: distributed==2024.12.0 in /home/sarbanidas/agb-venv/lib/python3.11/site-packages (from dask[complete]->xarray) (2024.12.0)\n",
      "Requirement already satisfied: bokeh>=3.1.0 in /home/sarbanidas/agb-venv/lib/python3.11/site-packages (from dask[complete]->xarray) (3.6.2)\n",
      "Requirement already satisfied: jinja2>=2.10.3 in /home/sarbanidas/agb-venv/lib/python3.11/site-packages (from dask[complete]->xarray) (3.1.4)\n",
      "Requirement already satisfied: msgpack>=1.0.2 in /home/sarbanidas/agb-venv/lib/python3.11/site-packages (from distributed==2024.12.0->dask[complete]->xarray) (1.1.0)\n",
      "Requirement already satisfied: psutil>=5.8.0 in /home/sarbanidas/agb-venv/lib/python3.11/site-packages (from distributed==2024.12.0->dask[complete]->xarray) (6.1.0)\n",
      "Requirement already satisfied: sortedcontainers>=2.0.5 in /home/sarbanidas/agb-venv/lib/python3.11/site-packages (from distributed==2024.12.0->dask[complete]->xarray) (2.4.0)\n",
      "Requirement already satisfied: tblib>=1.6.0 in /home/sarbanidas/agb-venv/lib/python3.11/site-packages (from distributed==2024.12.0->dask[complete]->xarray) (3.0.0)\n",
      "Requirement already satisfied: tornado>=6.2.0 in /home/sarbanidas/agb-venv/lib/python3.11/site-packages (from distributed==2024.12.0->dask[complete]->xarray) (6.4.2)\n",
      "Requirement already satisfied: zict>=3.0.0 in /home/sarbanidas/agb-venv/lib/python3.11/site-packages (from distributed==2024.12.0->dask[complete]->xarray) (3.0.0)\n",
      "Requirement already satisfied: contourpy>=1.2 in /home/sarbanidas/agb-venv/lib/python3.11/site-packages (from bokeh>=3.1.0->dask[complete]->xarray) (1.3.1)\n",
      "Requirement already satisfied: pillow>=7.1.0 in /home/sarbanidas/agb-venv/lib/python3.11/site-packages (from bokeh>=3.1.0->dask[complete]->xarray) (11.0.0)\n",
      "Requirement already satisfied: xyzservices>=2021.09.1 in /home/sarbanidas/agb-venv/lib/python3.11/site-packages (from bokeh>=3.1.0->dask[complete]->xarray) (2024.9.0)\n",
      "Requirement already satisfied: MarkupSafe>=2.0 in /home/sarbanidas/agb-venv/lib/python3.11/site-packages (from jinja2>=2.10.3->dask[complete]->xarray) (3.0.2)\n",
      "Installing collected packages: xee\n",
      "Successfully installed xee-0.0.19\n",
      "Note: you may need to restart the kernel to use updated packages.\n"
     ]
    }
   ],
   "source": [
    "pip install xarray xee\n"
   ]
  },
  {
   "cell_type": "code",
   "execution_count": null,
   "id": "cc6353d9-18e5-4c52-a566-4e7482ca29ab",
   "metadata": {},
   "outputs": [],
   "source": []
  }
 ],
 "metadata": {
  "kernelspec": {
   "display_name": "Python 3 (ipykernel)",
   "language": "python",
   "name": "python3"
  },
  "language_info": {
   "codemirror_mode": {
    "name": "ipython",
    "version": 3
   },
   "file_extension": ".py",
   "mimetype": "text/x-python",
   "name": "python",
   "nbconvert_exporter": "python",
   "pygments_lexer": "ipython3",
   "version": "3.11.2"
  }
 },
 "nbformat": 4,
 "nbformat_minor": 5
}
