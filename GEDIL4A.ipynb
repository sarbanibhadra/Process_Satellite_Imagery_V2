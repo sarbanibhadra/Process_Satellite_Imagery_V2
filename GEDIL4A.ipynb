{
 "cells": [
  {
   "cell_type": "code",
   "execution_count": 11,
   "id": "9ec0eaed-a965-40a3-958c-a1285f2e8412",
   "metadata": {},
   "outputs": [
    {
     "name": "stdout",
     "output_type": "stream",
     "text": [
      "START\n",
      "lenght of table id 658\n"
     ]
    }
   ],
   "source": [
    "# Pipeline to generate AGB map based on random forest algorithm\n",
    "import ee\n",
    "import geemap\n",
    "import folium\n",
    "import time\n",
    "\n",
    "ee.Initialize()\n",
    "Map = geemap.Map()\n",
    "\n",
    "# # Define the region of interest of Amazon basin\n",
    "# amazon_region = ee.Geometry.Polygon([[[-80.0, 10.0],\n",
    "#             [-20.0, 10.0],\n",
    "#             [-20.0, -65.0],                           \n",
    "#             [-80.0, -65.0],\n",
    "#             [-80.0, 10.0]]]) \n",
    "# # amazon_region = ee.Geometry.Polygon([[[-77.0, 5.0], \n",
    "# #                                       [-77.0, -17.0], \n",
    "# #                                       [-48.0, -17.0], \n",
    "# #                                       [-48.0, 5.0], \n",
    "# #                                       [-77.0, 5.0]]])\n",
    "\n",
    "# Load the shapefile as an Earth Engine feature collection\n",
    "amazon_region = ee.FeatureCollection(\"projects/test-project-agb/assets/AmazonBasinLimits-master\")\n",
    "\n",
    "# # Print the first feature to verify\n",
    "# print(amazon_region.first().getInfo())\n",
    "\n",
    "print(\"START\")\n",
    "\n",
    "# Load GEDI Level 4A data\n",
    "gedi_all = ee.FeatureCollection('LARSE/GEDI/GEDI04_A_002_INDEX')\\\n",
    "        .filter('time_start > \"2019-03-01\" && time_end < \"2019-08-31\"')\\\n",
    "        .filterBounds(amazon_region);\n",
    "\n",
    "# Get the list of table_id values\n",
    "table_ids = gedi_all.aggregate_array('table_id').getInfo()\n",
    "\n",
    "print(\"lenght of table id\", len(table_ids))\n",
    "\n",
    "# # Initialize an empty FeatureCollection\n",
    "# gedi = ee.FeatureCollection([])\n",
    "\n",
    "# # Loop through each table ID and merge them\n",
    "# for table_id in table_ids:\n",
    "#     print(table_id)\n",
    "#     # Load each table and merge\n",
    "#     table = ee.FeatureCollection(table_id).filterBounds(amazon_region);\n",
    "#     gedi = gedi.merge(table)\n",
    "\n",
    "    \n",
    "# # print('Number of filtered GEDI points:', gedi.size().getInfo())\n",
    "# # print('Number of GEDI points:', gedi.size().getInfo())\n",
    "# # Filter to keep only points with non-null 'agbd' values\n",
    "# gedi = gedi.filter(ee.Filter.notNull(['agbd']))\n",
    "# # print('Number of filtered GEDI points:', gedi.size().getInfo())\n",
    "\n",
    "\n",
    "\n",
    "# Map.addLayer(gedi, \n",
    "#   {'min': 0, 'max': 300},  \n",
    "#   'gedi'\n",
    "# );\n",
    "\n",
    "\n",
    "# Map.centerObject(amazon_region, 6)\n",
    "# Map"
   ]
  },
  {
   "cell_type": "code",
   "execution_count": null,
   "id": "15e57526-18e2-4c17-8d3c-97fc1f705091",
   "metadata": {},
   "outputs": [],
   "source": []
  }
 ],
 "metadata": {
  "kernelspec": {
   "display_name": "Python 3 (ipykernel)",
   "language": "python",
   "name": "python3"
  },
  "language_info": {
   "codemirror_mode": {
    "name": "ipython",
    "version": 3
   },
   "file_extension": ".py",
   "mimetype": "text/x-python",
   "name": "python",
   "nbconvert_exporter": "python",
   "pygments_lexer": "ipython3",
   "version": "3.11.2"
  }
 },
 "nbformat": 4,
 "nbformat_minor": 5
}
