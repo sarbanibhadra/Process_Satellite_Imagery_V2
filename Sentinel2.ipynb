{
 "cells": [
  {
   "cell_type": "code",
   "execution_count": 1,
   "id": "accc683d-8760-4a3b-9c56-e018d5693a9d",
   "metadata": {
    "scrolled": true
   },
   "outputs": [
    {
     "name": "stdout",
     "output_type": "stream",
     "text": [
      "START\n"
     ]
    },
    {
     "data": {
      "application/vnd.jupyter.widget-view+json": {
       "model_id": "26b99f18d614479e8ca724843110c6bd",
       "version_major": 2,
       "version_minor": 0
      },
      "text/plain": [
       "Map(center=[-19.307052700621895, -49.99999999999999], controls=(WidgetControl(options=['position', 'transparen…"
      ]
     },
     "execution_count": 1,
     "metadata": {},
     "output_type": "execute_result"
    }
   ],
   "source": [
    "import ee\n",
    "import geemap\n",
    "import folium\n",
    "import time\n",
    "\n",
    "ee.Initialize()\n",
    "Map = geemap.Map()\n",
    "\n",
    "# Define the region of interest of Amazon basin\n",
    "amazon_region = ee.Geometry.Polygon([[[-80.0, 10.0],\n",
    "            [-20.0, 10.0],\n",
    "            [-20.0, -50.0],                           \n",
    "            [-80.0, -50.0],\n",
    "            [-80.0, 10.0]]]) \n",
    "\n",
    "print(\"START\")\n",
    "\n",
    "# Define the bitmasks\n",
    "cloud_bit_mask = ee.Number(1 << 5)  # Cloud bit is in the 6th bit position\n",
    "cirrus_bit_mask = ee.Number(1 << 9)  # Cirrus bit is in the 10th bit position\n",
    "\n",
    "# Apply the mask using bitwise AND to check that both cloud and cirrus bits are 0\n",
    "def mask_clouds(image):\n",
    "    qa = image.select('QA60')  # Select the QA60 band that holds cloud and cirrus bit information\n",
    "    mask = qa.bitwiseAnd(cloud_bit_mask).eq(0).And(qa.bitwiseAnd(cirrus_bit_mask).eq(0))\n",
    "    return image.updateMask(mask)\n",
    "\n",
    "\n",
    "\n",
    "sentinel2 = ee.ImageCollection('COPERNICUS/S2_SR_HARMONIZED') \\\n",
    "                .filterBounds(amazon_region) \\\n",
    "                .filterDate('2022-01-01', '2022-12-31') \\\n",
    "                .filter(ee.Filter.lt('CLOUDY_PIXEL_PERCENTAGE', 20))\n",
    "\n",
    "sentinel2 = sentinel2.map(mask_clouds)\n",
    "\n",
    "# Calculate NDVI\n",
    "ndvi = sentinel2.map(lambda image: image.normalizedDifference(['B8', 'B4']).rename('NDVI')).median()\n",
    "# Calculate EVI\n",
    "def calculate_evi(image):\n",
    "    return image.expression(\n",
    "        '2.5 * ((B8 - B4) / (B8 + 6 * B4 - 7.5 * B2 + 1))',\n",
    "        {\n",
    "            'B8': image.select('B8'),\n",
    "            'B4': image.select('B4'),\n",
    "            'B2': image.select('B2')\n",
    "        }).rename('EVI')\n",
    "\n",
    "evi = sentinel2.map(calculate_evi).median()\n",
    "\n",
    "\n",
    "# Define visualization parameters\n",
    "visualization = {\n",
    "    'min': 0.0,\n",
    "    'max': 0.3,\n",
    "    'bands': ['B4', 'B3', 'B2']\n",
    "}\n",
    "# display sentinel-2 data\n",
    "Map.addLayer(sentinel2, visualization,'sentinel2');\n",
    "Map.centerObject(amazon_region, 6)\n",
    "Map"
   ]
  },
  {
   "cell_type": "code",
   "execution_count": null,
   "id": "d4df2cf4-ed6a-443f-a1f8-062b60b96197",
   "metadata": {},
   "outputs": [],
   "source": []
  }
 ],
 "metadata": {
  "kernelspec": {
   "display_name": "Python 3 (ipykernel)",
   "language": "python",
   "name": "python3"
  },
  "language_info": {
   "codemirror_mode": {
    "name": "ipython",
    "version": 3
   },
   "file_extension": ".py",
   "mimetype": "text/x-python",
   "name": "python",
   "nbconvert_exporter": "python",
   "pygments_lexer": "ipython3",
   "version": "3.11.2"
  }
 },
 "nbformat": 4,
 "nbformat_minor": 5
}
