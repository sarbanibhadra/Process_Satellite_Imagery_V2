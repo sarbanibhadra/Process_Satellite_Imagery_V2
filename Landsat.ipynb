{
 "cells": [
  {
   "cell_type": "code",
   "execution_count": 1,
   "id": "70d5c806-b1c9-467b-8bc1-a5f1b23123ec",
   "metadata": {
    "scrolled": true
   },
   "outputs": [
    {
     "name": "stdout",
     "output_type": "stream",
     "text": [
      "START\n"
     ]
    },
    {
     "data": {
      "application/vnd.jupyter.widget-view+json": {
       "model_id": "f2b444f1c27a43fc940109a498429854",
       "version_major": 2,
       "version_minor": 0
      },
      "text/plain": [
       "Map(center=[-19.307052700621895, -49.99999999999999], controls=(WidgetControl(options=['position', 'transparen…"
      ]
     },
     "execution_count": 1,
     "metadata": {},
     "output_type": "execute_result"
    }
   ],
   "source": [
    "import ee\n",
    "import geemap\n",
    "import folium\n",
    "import time\n",
    "\n",
    "ee.Initialize()\n",
    "Map = geemap.Map()\n",
    "\n",
    "# Define the region of interest of Amazon basin\n",
    "amazon_region = ee.Geometry.Polygon([[[-80.0, 10.0],\n",
    "            [-20.0, 10.0],\n",
    "            [-20.0, -50.0],                           \n",
    "            [-80.0, -50.0],\n",
    "            [-80.0, 10.0]]]) \n",
    "\n",
    "print(\"START\")\n",
    "\n",
    "# Load Landsat 8 Surface Reflectance data\n",
    "landsat8 = ee.ImageCollection('LANDSAT/LC08/C02/T1_L2') \\\n",
    "              .filterBounds(amazon_region) \\\n",
    "              .filterDate('2022-01-01', '2022-12-31') \\\n",
    "              .filter(ee.Filter.lt('CLOUD_COVER', 40))\n",
    "\n",
    "# Calculate NDVI for Landsat 8\n",
    "landsat_ndvi = landsat8.map(lambda image: image.normalizedDifference(['SR_B5', 'SR_B4']).rename('NDVI')).median()\n",
    "\n",
    "Map.addLayer(landsat_ndvi, \n",
    "  {}, \n",
    "  'landsat_ndvi'\n",
    ");\n",
    "Map.centerObject(amazon_region, 6)\n",
    "Map"
   ]
  },
  {
   "cell_type": "code",
   "execution_count": null,
   "id": "92944da0-3ea4-4ac0-a9ec-498bab352f2f",
   "metadata": {},
   "outputs": [],
   "source": []
  }
 ],
 "metadata": {
  "kernelspec": {
   "display_name": "Python 3 (ipykernel)",
   "language": "python",
   "name": "python3"
  },
  "language_info": {
   "codemirror_mode": {
    "name": "ipython",
    "version": 3
   },
   "file_extension": ".py",
   "mimetype": "text/x-python",
   "name": "python",
   "nbconvert_exporter": "python",
   "pygments_lexer": "ipython3",
   "version": "3.11.2"
  }
 },
 "nbformat": 4,
 "nbformat_minor": 5
}
