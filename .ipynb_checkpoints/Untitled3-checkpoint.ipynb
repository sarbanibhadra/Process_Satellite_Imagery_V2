{
 "cells": [
  {
   "cell_type": "code",
   "execution_count": null,
   "id": "49aba590-a03b-4799-ad0d-3704023f27c8",
   "metadata": {},
   "outputs": [],
   "source": [
    "import rasterio\n",
    "from rasterio.merge import merge\n",
    "from rasterio.plot import show\n",
    "import glob\n",
    "\n",
    "# Specify the directory containing raster files\n",
    "input_files = glob.glob(\"/local/directory/*.tif\")\n",
    "\n",
    "# Open all raster files\n",
    "src_files_to_mosaic = [rasterio.open(f) for f in input_files]\n",
    "\n",
    "# Merge them into one\n",
    "mosaic, out_transform = merge(src_files_to_mosaic)\n",
    "\n",
    "# Save the merged raster to a new file\n",
    "out_meta = src_files_to_mosaic[0].meta.copy()\n",
    "out_meta.update({\n",
    "    \"driver\": \"GTiff\",\n",
    "    \"height\": mosaic.shape[1],\n",
    "    \"width\": mosaic.shape[2],\n",
    "    \"transform\": out_transform,\n",
    "})\n",
    "\n",
    "with rasterio.open(\"merged_output.tif\", \"w\", **out_meta) as dest:\n",
    "    dest.write(mosaic)\n",
    "\n",
    "print(\"Merging completed: merged_output.tif\")\n"
   ]
  }
 ],
 "metadata": {
  "kernelspec": {
   "display_name": "Python 3 (ipykernel)",
   "language": "python",
   "name": "python3"
  },
  "language_info": {
   "codemirror_mode": {
    "name": "ipython",
    "version": 3
   },
   "file_extension": ".py",
   "mimetype": "text/x-python",
   "name": "python",
   "nbconvert_exporter": "python",
   "pygments_lexer": "ipython3",
   "version": "3.11.2"
  }
 },
 "nbformat": 4,
 "nbformat_minor": 5
}
