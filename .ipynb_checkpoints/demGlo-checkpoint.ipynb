{
 "cells": [
  {
   "cell_type": "code",
   "execution_count": 1,
   "id": "09f2429b-10ba-4f06-9fcb-263e9fda14ff",
   "metadata": {
    "scrolled": true
   },
   "outputs": [
    {
     "name": "stdout",
     "output_type": "stream",
     "text": [
      "START\n"
     ]
    },
    {
     "data": {
      "application/vnd.jupyter.widget-view+json": {
       "model_id": "1be39f0b19544a0db132a3fe5d973fb6",
       "version_major": 2,
       "version_minor": 0
      },
      "text/plain": [
       "Map(center=[10, -50], controls=(WidgetControl(options=['position', 'transparent_bg'], widget=SearchDataGUI(chi…"
      ]
     },
     "execution_count": 1,
     "metadata": {},
     "output_type": "execute_result"
    }
   ],
   "source": [
    "import ee\n",
    "import geemap\n",
    "import folium\n",
    "import time\n",
    "\n",
    "ee.Initialize()\n",
    "Map = geemap.Map()\n",
    "\n",
    "# Define the region of interest of Amazon basin\n",
    "amazon_region = ee.Geometry.Polygon([[[-80.0, 10.0],\n",
    "            [-20.0, 10.0],\n",
    "            [-20.0, -50.0],                           \n",
    "            [-80.0, -50.0],\n",
    "            [-80.0, 10.0]]]) \n",
    "\n",
    "print(\"START\")\n",
    "\n",
    "dem = ee.ImageCollection('COPERNICUS/DEM/GLO30').filterBounds(amazon_region)\n",
    "elevation = dem.select('DEM');\n",
    "slope = ee.Terrain.slope(dem)\n",
    "aspect = ee.Terrain.aspect(dem)\n",
    "elevationVis = {\n",
    "  'min': 0.0,\n",
    "  'max': 1000.0,\n",
    "  'palette': ['0000ff','00ffff','ffff00','ff0000','ffffff'],\n",
    "};\n",
    "Map.setCenter(-50, 10, 4);\n",
    "Map.addLayer(elevation, elevationVis, 'DEM');\n",
    "Map"
   ]
  },
  {
   "cell_type": "code",
   "execution_count": null,
   "id": "406a8347-dc32-4e29-90ff-490d181295dd",
   "metadata": {},
   "outputs": [],
   "source": []
  }
 ],
 "metadata": {
  "kernelspec": {
   "display_name": "Python 3 (ipykernel)",
   "language": "python",
   "name": "python3"
  },
  "language_info": {
   "codemirror_mode": {
    "name": "ipython",
    "version": 3
   },
   "file_extension": ".py",
   "mimetype": "text/x-python",
   "name": "python",
   "nbconvert_exporter": "python",
   "pygments_lexer": "ipython3",
   "version": "3.11.2"
  }
 },
 "nbformat": 4,
 "nbformat_minor": 5
}
