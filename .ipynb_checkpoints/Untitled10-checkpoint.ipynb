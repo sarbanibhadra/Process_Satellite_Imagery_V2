{
 "cells": [
  {
   "cell_type": "code",
   "execution_count": 2,
   "id": "22fc4e34-7029-454b-8e74-0a516243fbf3",
   "metadata": {},
   "outputs": [
    {
     "ename": "KeyError",
     "evalue": "'VV'",
     "output_type": "error",
     "traceback": [
      "\u001b[0;31m---------------------------------------------------------------------------\u001b[0m",
      "\u001b[0;31mKeyError\u001b[0m                                  Traceback (most recent call last)",
      "Cell \u001b[0;32mIn[2], line 31\u001b[0m\n\u001b[1;32m     29\u001b[0m \u001b[38;5;28;01mfor\u001b[39;00m i \u001b[38;5;129;01min\u001b[39;00m \u001b[38;5;28mrange\u001b[39m(images\u001b[38;5;241m.\u001b[39mlength()\u001b[38;5;241m.\u001b[39mgetInfo()):\n\u001b[1;32m     30\u001b[0m     img \u001b[38;5;241m=\u001b[39m ee\u001b[38;5;241m.\u001b[39mImage(images\u001b[38;5;241m.\u001b[39mget(i))\n\u001b[0;32m---> 31\u001b[0m     time_series\u001b[38;5;241m.\u001b[39mappend(\u001b[43mimage_to_array\u001b[49m\u001b[43m(\u001b[49m\u001b[43mimg\u001b[49m\u001b[43m)\u001b[49m)\n\u001b[1;32m     33\u001b[0m \u001b[38;5;66;03m# Stack time series into a 3D NumPy array (time, lat, lon)\u001b[39;00m\n\u001b[1;32m     34\u001b[0m stacked_array \u001b[38;5;241m=\u001b[39m np\u001b[38;5;241m.\u001b[39mstack(time_series, axis\u001b[38;5;241m=\u001b[39m\u001b[38;5;241m0\u001b[39m)\n",
      "Cell \u001b[0;32mIn[2], line 24\u001b[0m, in \u001b[0;36mimage_to_array\u001b[0;34m(image)\u001b[0m\n\u001b[1;32m     22\u001b[0m \u001b[38;5;28;01mdef\u001b[39;00m \u001b[38;5;21mimage_to_array\u001b[39m(image):\n\u001b[1;32m     23\u001b[0m     \u001b[38;5;66;03m# Get the image's data as a NumPy array\u001b[39;00m\n\u001b[0;32m---> 24\u001b[0m     np_array \u001b[38;5;241m=\u001b[39m np\u001b[38;5;241m.\u001b[39marray(\u001b[43mimage\u001b[49m\u001b[38;5;241;43m.\u001b[39;49m\u001b[43mgetInfo\u001b[49m\u001b[43m(\u001b[49m\u001b[43m)\u001b[49m\u001b[43m[\u001b[49m\u001b[38;5;124;43m'\u001b[39;49m\u001b[38;5;124;43mbands\u001b[39;49m\u001b[38;5;124;43m'\u001b[39;49m\u001b[43m]\u001b[49m\u001b[43m[\u001b[49m\u001b[38;5;241;43m0\u001b[39;49m\u001b[43m]\u001b[49m\u001b[43m[\u001b[49m\u001b[38;5;124;43m'\u001b[39;49m\u001b[38;5;124;43mVV\u001b[39;49m\u001b[38;5;124;43m'\u001b[39;49m\u001b[43m]\u001b[49m)  \u001b[38;5;66;03m# Example for a single band, adjust for others\u001b[39;00m\n\u001b[1;32m     25\u001b[0m     \u001b[38;5;28;01mreturn\u001b[39;00m np_array\n",
      "\u001b[0;31mKeyError\u001b[0m: 'VV'"
     ]
    }
   ],
   "source": [
    "# Earth Engine ImageCollection as Xarray Datasets, use to improve agb prediction using GEE data\n",
    "import ee\n",
    "import xarray as xr\n",
    "import numpy as np\n",
    "\n",
    "# Initialize Earth Engine\n",
    "ee.Initialize()\n",
    "\n",
    "# Define the region of interest (ROI), for example, Amazon Basin\n",
    "roi = ee.Geometry.Polygon([[-74, -3], [-60, -3], [-60, 5], [-74, 5]])\n",
    "\n",
    "# Load Sentinel-1 ImageCollection (as an example)\n",
    "collection = ee.ImageCollection('COPERNICUS/S1_GRD') \\\n",
    "    .filterBounds(roi) \\\n",
    "    .filterDate('2020-01-01', '2020-12-31') \\\n",
    "    .filter(ee.Filter.listContains('transmitterReceiverPolarisation', 'VV')) \\\n",
    "    .select(['VV'])\n",
    "\n",
    "# Convert ImageCollection to List of Images\n",
    "images = collection.toList(collection.size())\n",
    "\n",
    "# Function to convert individual image to a NumPy array (for Xarray)\n",
    "def image_to_array(image):\n",
    "    # Get the image's data as a NumPy array\n",
    "    np_array = np.array(image.getInfo()['bands'][0]['VV'])  # Example for a single band, adjust for others\n",
    "    return np_array\n",
    "\n",
    "# Example of stacking the images into a 3D array (time, lat, lon)\n",
    "time_series = []\n",
    "for i in range(images.length().getInfo()):\n",
    "    img = ee.Image(images.get(i))\n",
    "    time_series.append(image_to_array(img))\n",
    "\n",
    "# Stack time series into a 3D NumPy array (time, lat, lon)\n",
    "stacked_array = np.stack(time_series, axis=0)\n",
    "\n",
    "# Create an Xarray Dataset\n",
    "time = np.arange(len(time_series))  # Time dimension, adjust as needed\n",
    "lat = np.linspace(roi.bounds().getInfo()['coordinates'][1][1], roi.bounds().getInfo()['coordinates'][0][1], stacked_array.shape[1])  # Adjust for lat/lon\n",
    "lon = np.linspace(roi.bounds().getInfo()['coordinates'][1][0], roi.bounds().getInfo()['coordinates'][0][0], stacked_array.shape[2])\n",
    "\n",
    "# Convert to Xarray Dataset\n",
    "ds = xr.DataArray(stacked_array, coords=[time, lat, lon], dims=[\"time\", \"lat\", \"lon\"])\n",
    "\n",
    "# Optionally, add attributes like projection, CRS, etc.\n",
    "ds.attrs[\"projection\"] = \"EPSG:4326\"  # Example, adjust for your data\n",
    "\n",
    "# Convert to Dataset (if needed for additional metadata)\n",
    "ds = ds.to_dataset(name='VV')  # Change 'VV' to appropriate band name\n",
    "\n",
    "# Inspect the resulting Dataset\n",
    "print(ds)\n"
   ]
  },
  {
   "cell_type": "code",
   "execution_count": null,
   "id": "d20bb8c6-2be6-4c4d-895a-72b253e7d32d",
   "metadata": {},
   "outputs": [],
   "source": []
  }
 ],
 "metadata": {
  "kernelspec": {
   "display_name": "Python 3 (ipykernel)",
   "language": "python",
   "name": "python3"
  },
  "language_info": {
   "codemirror_mode": {
    "name": "ipython",
    "version": 3
   },
   "file_extension": ".py",
   "mimetype": "text/x-python",
   "name": "python",
   "nbconvert_exporter": "python",
   "pygments_lexer": "ipython3",
   "version": "3.11.2"
  }
 },
 "nbformat": 4,
 "nbformat_minor": 5
}
