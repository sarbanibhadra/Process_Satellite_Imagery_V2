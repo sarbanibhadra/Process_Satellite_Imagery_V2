{
 "cells": [
  {
   "cell_type": "code",
   "execution_count": 1,
   "id": "a05edfb3-ada5-4db1-936b-93996c2a3ef9",
   "metadata": {},
   "outputs": [
    {
     "name": "stdout",
     "output_type": "stream",
     "text": [
      "Collecting ipyparallel\n",
      "  Downloading ipyparallel-9.0.0-py3-none-any.whl (306 kB)\n",
      "\u001b[2K     \u001b[90m━━━━━━━━━━━━━━━━━━━━━━━━━━━━━━━━━━━━━━\u001b[0m \u001b[32m306.8/306.8 kB\u001b[0m \u001b[31m11.5 MB/s\u001b[0m eta \u001b[36m0:00:00\u001b[0m\n",
      "\u001b[?25hRequirement already satisfied: decorator in /home/sarbanidas/agb-venv/lib/python3.11/site-packages (from ipyparallel) (5.1.1)\n",
      "Requirement already satisfied: ipykernel>=6.9.1 in /home/sarbanidas/agb-venv/lib/python3.11/site-packages (from ipyparallel) (6.29.5)\n",
      "Requirement already satisfied: ipython>=5 in /home/sarbanidas/agb-venv/lib/python3.11/site-packages (from ipyparallel) (8.30.0)\n",
      "Requirement already satisfied: jupyter-client>=7 in /home/sarbanidas/agb-venv/lib/python3.11/site-packages (from ipyparallel) (8.6.3)\n",
      "Requirement already satisfied: psutil in /home/sarbanidas/agb-venv/lib/python3.11/site-packages (from ipyparallel) (6.1.0)\n",
      "Requirement already satisfied: python-dateutil>=2.1 in /home/sarbanidas/agb-venv/lib/python3.11/site-packages (from ipyparallel) (2.9.0.post0)\n",
      "Requirement already satisfied: pyzmq>=25 in /home/sarbanidas/agb-venv/lib/python3.11/site-packages (from ipyparallel) (26.2.0)\n",
      "Requirement already satisfied: tornado>=6.1 in /home/sarbanidas/agb-venv/lib/python3.11/site-packages (from ipyparallel) (6.4.2)\n",
      "Requirement already satisfied: tqdm in /home/sarbanidas/agb-venv/lib/python3.11/site-packages (from ipyparallel) (4.67.1)\n",
      "Requirement already satisfied: traitlets>=5 in /home/sarbanidas/agb-venv/lib/python3.11/site-packages (from ipyparallel) (5.14.3)\n",
      "Requirement already satisfied: comm>=0.1.1 in /home/sarbanidas/agb-venv/lib/python3.11/site-packages (from ipykernel>=6.9.1->ipyparallel) (0.2.2)\n",
      "Requirement already satisfied: debugpy>=1.6.5 in /home/sarbanidas/agb-venv/lib/python3.11/site-packages (from ipykernel>=6.9.1->ipyparallel) (1.8.9)\n",
      "Requirement already satisfied: jupyter-core!=5.0.*,>=4.12 in /home/sarbanidas/agb-venv/lib/python3.11/site-packages (from ipykernel>=6.9.1->ipyparallel) (5.7.2)\n",
      "Requirement already satisfied: matplotlib-inline>=0.1 in /home/sarbanidas/agb-venv/lib/python3.11/site-packages (from ipykernel>=6.9.1->ipyparallel) (0.1.7)\n",
      "Requirement already satisfied: nest-asyncio in /home/sarbanidas/agb-venv/lib/python3.11/site-packages (from ipykernel>=6.9.1->ipyparallel) (1.6.0)\n",
      "Requirement already satisfied: packaging in /home/sarbanidas/agb-venv/lib/python3.11/site-packages (from ipykernel>=6.9.1->ipyparallel) (24.2)\n",
      "Requirement already satisfied: jedi>=0.16 in /home/sarbanidas/agb-venv/lib/python3.11/site-packages (from ipython>=5->ipyparallel) (0.19.2)\n",
      "Requirement already satisfied: pexpect>4.3 in /home/sarbanidas/agb-venv/lib/python3.11/site-packages (from ipython>=5->ipyparallel) (4.9.0)\n",
      "Requirement already satisfied: prompt_toolkit<3.1.0,>=3.0.41 in /home/sarbanidas/agb-venv/lib/python3.11/site-packages (from ipython>=5->ipyparallel) (3.0.48)\n",
      "Requirement already satisfied: pygments>=2.4.0 in /home/sarbanidas/agb-venv/lib/python3.11/site-packages (from ipython>=5->ipyparallel) (2.18.0)\n",
      "Requirement already satisfied: stack_data in /home/sarbanidas/agb-venv/lib/python3.11/site-packages (from ipython>=5->ipyparallel) (0.6.3)\n",
      "Requirement already satisfied: typing_extensions>=4.6 in /home/sarbanidas/agb-venv/lib/python3.11/site-packages (from ipython>=5->ipyparallel) (4.12.2)\n",
      "Requirement already satisfied: six>=1.5 in /home/sarbanidas/agb-venv/lib/python3.11/site-packages (from python-dateutil>=2.1->ipyparallel) (1.16.0)\n",
      "Requirement already satisfied: parso<0.9.0,>=0.8.4 in /home/sarbanidas/agb-venv/lib/python3.11/site-packages (from jedi>=0.16->ipython>=5->ipyparallel) (0.8.4)\n",
      "Requirement already satisfied: platformdirs>=2.5 in /home/sarbanidas/agb-venv/lib/python3.11/site-packages (from jupyter-core!=5.0.*,>=4.12->ipykernel>=6.9.1->ipyparallel) (4.3.6)\n",
      "Requirement already satisfied: ptyprocess>=0.5 in /home/sarbanidas/agb-venv/lib/python3.11/site-packages (from pexpect>4.3->ipython>=5->ipyparallel) (0.7.0)\n",
      "Requirement already satisfied: wcwidth in /home/sarbanidas/agb-venv/lib/python3.11/site-packages (from prompt_toolkit<3.1.0,>=3.0.41->ipython>=5->ipyparallel) (0.2.13)\n",
      "Requirement already satisfied: executing>=1.2.0 in /home/sarbanidas/agb-venv/lib/python3.11/site-packages (from stack_data->ipython>=5->ipyparallel) (2.1.0)\n",
      "Requirement already satisfied: asttokens>=2.1.0 in /home/sarbanidas/agb-venv/lib/python3.11/site-packages (from stack_data->ipython>=5->ipyparallel) (3.0.0)\n",
      "Requirement already satisfied: pure-eval in /home/sarbanidas/agb-venv/lib/python3.11/site-packages (from stack_data->ipython>=5->ipyparallel) (0.2.3)\n",
      "Installing collected packages: ipyparallel\n",
      "Successfully installed ipyparallel-9.0.0\n",
      "Note: you may need to restart the kernel to use updated packages.\n"
     ]
    }
   ],
   "source": [
    "pip install ipyparallel"
   ]
  },
  {
   "cell_type": "code",
   "execution_count": 3,
   "id": "901219f8-d035-4358-90d9-190e330c5741",
   "metadata": {},
   "outputs": [
    {
     "ename": "SyntaxError",
     "evalue": "invalid syntax (51024215.py, line 1)",
     "output_type": "error",
     "traceback": [
      "\u001b[0;36m  Cell \u001b[0;32mIn[3], line 1\u001b[0;36m\u001b[0m\n\u001b[0;31m    ipcluster Start --n=8\u001b[0m\n\u001b[0m              ^\u001b[0m\n\u001b[0;31mSyntaxError\u001b[0m\u001b[0;31m:\u001b[0m invalid syntax\n"
     ]
    }
   ],
   "source": [
    "ipcluster start --n=8"
   ]
  },
  {
   "cell_type": "code",
   "execution_count": null,
   "id": "745ce1f5-e15e-4c01-a65c-10dfd03536d7",
   "metadata": {},
   "outputs": [],
   "source": []
  }
 ],
 "metadata": {
  "kernelspec": {
   "display_name": "Python 3 (ipykernel)",
   "language": "python",
   "name": "python3"
  },
  "language_info": {
   "codemirror_mode": {
    "name": "ipython",
    "version": 3
   },
   "file_extension": ".py",
   "mimetype": "text/x-python",
   "name": "python",
   "nbconvert_exporter": "python",
   "pygments_lexer": "ipython3",
   "version": "3.11.2"
  }
 },
 "nbformat": 4,
 "nbformat_minor": 5
}
