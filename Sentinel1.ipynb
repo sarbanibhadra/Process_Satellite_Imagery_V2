{
 "cells": [
  {
   "cell_type": "code",
   "execution_count": 2,
   "id": "1b424372-bb62-4ec0-900a-fa9486570951",
   "metadata": {
    "scrolled": true
   },
   "outputs": [
    {
     "name": "stdout",
     "output_type": "stream",
     "text": [
      "START\n"
     ]
    },
    {
     "data": {
      "application/vnd.jupyter.widget-view+json": {
       "model_id": "5a80780fe31d435eb451401396d352f9",
       "version_major": 2,
       "version_minor": 0
      },
      "text/plain": [
       "Map(center=[-19.307052700621895, -49.99999999999999], controls=(WidgetControl(options=['position', 'transparen…"
      ]
     },
     "metadata": {},
     "output_type": "display_data"
    }
   ],
   "source": [
    "import ee\n",
    "import geemap\n",
    "import folium\n",
    "import time\n",
    "\n",
    "ee.Initialize()\n",
    "Map = geemap.Map()\n",
    "\n",
    "# Define the region of interest of Amazon basin\n",
    "amazon_region = ee.Geometry.Polygon([[[-80.0, 10.0],\n",
    "            [-20.0, 10.0],\n",
    "            [-20.0, -50.0],                           \n",
    "            [-80.0, -50.0],\n",
    "            [-80.0, 10.0]]]) \n",
    "\n",
    "print(\"START\")\n",
    "\n",
    "# load sentinel-1 data \n",
    "# sentinel1 = ee.ImageCollection('COPERNICUS/S1_GRD')\\\n",
    "#              .filterBounds(amazon_region)\\\n",
    "#              .filterDate('2022-01-01', '2022-12-31')\\\n",
    "#              .filter(ee.Filter.listContains('transmitterReceiverPolarisation', 'VV'))\\\n",
    "#              .filter(ee.Filter.listContains('transmitterReceiverPolarisation', 'VH'))\\\n",
    "#              .filter(ee.Filter.inList('orbitProperties_pass', ['ASCENDING', 'DESCENDING']));\n",
    "\n",
    "# print('Number of sentinel1 points:', sentinel1.size().getInfo())\n",
    "\n",
    "\n",
    "# # Select the VV and VH bands\n",
    "# sentinel1_vv = sentinel1.select('VV').median()\n",
    "# sentinel1_vh = sentinel1.select('VH').median()\n",
    "spring = ee.Filter.date('2021-03-01', '2021-04-20');\n",
    "lateSpring = ee.Filter.date('2021-04-21', '2021-06-10');\n",
    "summer = ee.Filter.date('2021-06-11', '2021-08-31');\n",
    "\n",
    "# Define a masking function\n",
    "def mask_edges(image):\n",
    "    edge = image.lt(-30.0)  # Define an edge mask where values are less than -30\n",
    "    masked_image = image.mask().And(edge.Not())  # Mask out edges\n",
    "    return image.updateMask(masked_image)  # Apply the mask\n",
    "sentinel1 = ee.ImageCollection('COPERNICUS/S1_GRD')\\\n",
    "            .filterBounds(amazon_region)\\\n",
    "            .filter(ee.Filter.listContains('transmitterReceiverPolarisation', 'VV'))\\\n",
    "            .filter(ee.Filter.listContains('transmitterReceiverPolarisation', 'VH'))\\\n",
    "            .filter(ee.Filter.eq('instrumentMode', 'IW'))\\\n",
    "            .filter(ee.Filter.inList('orbitProperties_pass', ['ASCENDING', 'DESCENDING']))\n",
    "\n",
    "# Select the VV and VH bands\n",
    "sentinel1_vv = sentinel1.select('VV')\n",
    "sentinel1_vh = sentinel1.select('VH')\n",
    "\n",
    "# Apply the masking function to each image in the collection\n",
    "sentinel1_vv_masked = sentinel1_vv.map(mask_edges)\n",
    "sentinel1_vv_final = ee.Image.cat(\n",
    "        sentinel1_vv_masked.filter(spring).mean(),\n",
    "        sentinel1_vv_masked.filter(lateSpring).mean(),\n",
    "        sentinel1_vv_masked.filter(summer).mean());\n",
    "\n",
    "# Apply the masking function to each image in the collection\n",
    "sentinel1_vh_masked = sentinel1_vh.map(mask_edges)\n",
    "sentinel1_vh_final = ee.Image.cat(\n",
    "        sentinel1_vh_masked.filter(spring).mean(),\n",
    "        sentinel1_vh_masked.filter(lateSpring).mean(),\n",
    "        sentinel1_vh_masked.filter(summer).mean());\n",
    "\n",
    "Map.addLayer(sentinel1_vh_final, \n",
    "  {'min': -25, 'max': 5}, \n",
    "  'sentinel1_vh_final'\n",
    ");\n",
    "Map.addLayer(sentinel1_vv_final, \n",
    "  {'min': -25, 'max': 5}, \n",
    "  'sentinel1_vv_final'\n",
    ");\n",
    "Map.centerObject(amazon_region, 6)\n",
    "Map"
   ]
  },
  {
   "cell_type": "code",
   "execution_count": null,
   "id": "d2e76236-eebd-4427-be3c-ad95071ffa4f",
   "metadata": {},
   "outputs": [],
   "source": []
  }
 ],
 "metadata": {
  "kernelspec": {
   "display_name": "Python 3 (ipykernel)",
   "language": "python",
   "name": "python3"
  },
  "language_info": {
   "codemirror_mode": {
    "name": "ipython",
    "version": 3
   },
   "file_extension": ".py",
   "mimetype": "text/x-python",
   "name": "python",
   "nbconvert_exporter": "python",
   "pygments_lexer": "ipython3",
   "version": "3.11.2"
  }
 },
 "nbformat": 4,
 "nbformat_minor": 5
}
