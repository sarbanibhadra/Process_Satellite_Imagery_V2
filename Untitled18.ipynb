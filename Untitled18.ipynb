{
 "cells": [
  {
   "cell_type": "code",
   "execution_count": 1,
   "id": "e8572691-6c55-4d84-8e24-63b511f00c6e",
   "metadata": {},
   "outputs": [
    {
     "name": "stdout",
     "output_type": "stream",
     "text": [
      "Requirement already satisfied: rasterio in /home/sarbanidas/agb-venv/lib/python3.11/site-packages (1.4.3)\n",
      "Requirement already satisfied: affine in /home/sarbanidas/agb-venv/lib/python3.11/site-packages (from rasterio) (2.4.0)\n",
      "Requirement already satisfied: attrs in /home/sarbanidas/agb-venv/lib/python3.11/site-packages (from rasterio) (24.2.0)\n",
      "Requirement already satisfied: certifi in /home/sarbanidas/agb-venv/lib/python3.11/site-packages (from rasterio) (2024.8.30)\n",
      "Requirement already satisfied: click>=4.0 in /home/sarbanidas/agb-venv/lib/python3.11/site-packages (from rasterio) (8.1.7)\n",
      "Requirement already satisfied: cligj>=0.5 in /home/sarbanidas/agb-venv/lib/python3.11/site-packages (from rasterio) (0.7.2)\n",
      "Requirement already satisfied: numpy>=1.24 in /home/sarbanidas/agb-venv/lib/python3.11/site-packages (from rasterio) (2.0.2)\n",
      "Requirement already satisfied: click-plugins in /home/sarbanidas/agb-venv/lib/python3.11/site-packages (from rasterio) (1.1.1)\n",
      "Requirement already satisfied: pyparsing in /home/sarbanidas/agb-venv/lib/python3.11/site-packages (from rasterio) (3.2.0)\n",
      "Note: you may need to restart the kernel to use updated packages.\n"
     ]
    }
   ],
   "source": [
    "pip install rasterio"
   ]
  },
  {
   "cell_type": "code",
   "execution_count": null,
   "id": "b2557dd4-5b4a-4579-9c8f-59d51c3e9ff0",
   "metadata": {},
   "outputs": [],
   "source": []
  }
 ],
 "metadata": {
  "kernelspec": {
   "display_name": "Python 3 (ipykernel)",
   "language": "python",
   "name": "python3"
  },
  "language_info": {
   "codemirror_mode": {
    "name": "ipython",
    "version": 3
   },
   "file_extension": ".py",
   "mimetype": "text/x-python",
   "name": "python",
   "nbconvert_exporter": "python",
   "pygments_lexer": "ipython3",
   "version": "3.11.2"
  }
 },
 "nbformat": 4,
 "nbformat_minor": 5
}
